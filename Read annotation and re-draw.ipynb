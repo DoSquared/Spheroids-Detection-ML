{
 "cells": [
  {
   "cell_type": "code",
   "execution_count": 66,
   "id": "0e78361d",
   "metadata": {},
   "outputs": [],
   "source": [
    "#Libraries\n",
    "import os\n",
    "import xml.etree.ElementTree as ET\n",
    "import cv2\n",
    "import numpy as np"
   ]
  },
  {
   "cell_type": "code",
   "execution_count": 67,
   "id": "832b8e4e",
   "metadata": {},
   "outputs": [],
   "source": [
    "# Specify the paths to the folders containing images and XML files\n",
    "image_folder = r\"C:\\Dalia\\Spheroids\\PANC1\\Annotations\\01-Shahbaz-aftertraining\\Image\"\n",
    "xml_folder = r\"C:\\Dalia\\Spheroids\\PANC1\\Annotations\\01-Shahbaz-aftertraining\\XML\"\n",
    "save_folder = r\"C:\\Dalia\\Spheroids\\PANC1\\Annotations\\01-Shahbaz-aftertraining\\output\""
   ]
  },
  {
   "cell_type": "code",
   "execution_count": 68,
   "id": "0a9cf136",
   "metadata": {},
   "outputs": [],
   "source": [
    "def draw_polygon_on_image(xml_file, image_file, save_folder, counter):\n",
    "    # Parse the XML file\n",
    "    tree = ET.parse(xml_file)\n",
    "    root = tree.getroot()\n",
    "\n",
    "    # Load the image\n",
    "    image = cv2.imread(image_file)\n",
    "\n",
    "    # Iterate over the object annotations\n",
    "    for obj in root.iter(\"object\"):\n",
    "        # Extract the class label\n",
    "        class_label = obj.find(\"name\").text\n",
    "\n",
    "        # Find the polygon points\n",
    "        polygon = obj.find(\"polygon\")\n",
    "        if polygon is not None:\n",
    "            # Get the list of points in the polygon\n",
    "            points = []\n",
    "            for point_index in range(1, len(polygon) + 1):\n",
    "                x_tag = polygon.find(f\"x{point_index}\")\n",
    "                y_tag = polygon.find(f\"y{point_index}\")\n",
    "\n",
    "                if x_tag is not None and y_tag is not None:\n",
    "                    x = x_tag.text\n",
    "                    y = y_tag.text\n",
    "                    points.append((x, y))\n",
    "                else:\n",
    "                    break\n",
    "\n",
    "            # Convert the points to integer values\n",
    "            points = [(int(float(x)), int(float(y))) for x, y in points]\n",
    "\n",
    "            # Draw the polygon on the image\n",
    "            points_array = np.array(points)\n",
    "            cv2.polylines(image, [points_array], isClosed=True, color=(255,0, 0), thickness=2)\n",
    "\n",
    "            # Put the class label text on the image\n",
    "            #cv2.putText(image, class_label, (points[0][0], points[0][1] - 10), cv2.FONT_HERSHEY_SIMPLEX, 0.9, (0, 255, 0), 2)\n",
    "\n",
    "    # Save the image with the polygon\n",
    "    save_path = os.path.join(save_folder, f\"image_{counter}.jpg\")\n",
    "    cv2.imwrite(save_path, image)"
   ]
  },
  {
   "cell_type": "code",
   "execution_count": 69,
   "id": "47156dde",
   "metadata": {},
   "outputs": [],
   "source": [
    "    # Get the list of XML files\n",
    "xml_files = [file for file in os.listdir(xml_folder) if file.endswith(\".xml\")]\n"
   ]
  },
  {
   "cell_type": "code",
   "execution_count": 70,
   "id": "cd346db3",
   "metadata": {},
   "outputs": [],
   "source": [
    "    # Get the list of image files\n",
    "image_files = [file for file in os.listdir(image_folder) if file.endswith(\".jpg\")]\n"
   ]
  },
  {
   "cell_type": "code",
   "execution_count": 71,
   "id": "4a52e431",
   "metadata": {},
   "outputs": [],
   "source": [
    "# Iterate over the XML and image files simultaneously, call draw polygon\n",
    "for counter, (image_file, xml_file) in enumerate(zip(sorted(os.listdir(image_folder)), sorted(os.listdir(xml_folder)))):\n",
    "    # Create the full paths to the XML and image files\n",
    "    xml_path = os.path.join(xml_folder, xml_file)\n",
    "    image_path = os.path.join(image_folder, image_file)\n",
    "    # Draw polygons on the image\n",
    "    draw_polygon_on_image(xml_path, image_path, save_folder, counter)"
   ]
  },
  {
   "cell_type": "code",
   "execution_count": null,
   "id": "dec2195d",
   "metadata": {},
   "outputs": [],
   "source": []
  }
 ],
 "metadata": {
  "kernelspec": {
   "display_name": "Python 3",
   "language": "python",
   "name": "python3"
  },
  "language_info": {
   "codemirror_mode": {
    "name": "ipython",
    "version": 3
   },
   "file_extension": ".py",
   "mimetype": "text/x-python",
   "name": "python",
   "nbconvert_exporter": "python",
   "pygments_lexer": "ipython3",
   "version": "3.8.8"
  }
 },
 "nbformat": 4,
 "nbformat_minor": 5
}
